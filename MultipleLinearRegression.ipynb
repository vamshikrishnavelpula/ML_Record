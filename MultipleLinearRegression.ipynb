{
 "cells": [
  {
   "cell_type": "markdown",
   "id": "b70a432c-3c27-428d-b2bd-e0a2464eb612",
   "metadata": {},
   "source": [
    "## Housing Case Study\n",
    "Problem Statement:\n",
    "\n",
    "Consider a real estate company that has a dataset containing the prices of properties in the Delhi region. It wishes to use the data to optimise the sale prices of the properties based on important factors such as area, bedrooms, parking, etc.\n",
    "\n",
    "Essentially, the company wants —\n",
    "\n",
    "To identify the variables affecting house prices, e.g. area, number of rooms, bathrooms, etc.\n",
    "\n",
    "To create a linear model that quantitatively relates house prices with variables such as number of rooms, area, number of bathrooms, etc.\n",
    "\n",
    "To know the accuracy of the model, i.e. how well these variables can predict house prices."
   ]
  },
  {
   "cell_type": "code",
   "execution_count": 2,
   "id": "5fd862cf-9caf-4f63-b739-f13782ceaa39",
   "metadata": {},
   "outputs": [],
   "source": [
    "#1 Import necessery libraries\n",
    "import numpy as np\n",
    "import pandas as pd\n",
    "import matplotlib.pyplot as plt\n",
    "import seaborn as sns"
   ]
  },
  {
   "cell_type": "code",
   "execution_count": 3,
   "id": "e13c132d-b22a-4ada-b425-ace2d957fb5b",
   "metadata": {},
   "outputs": [
    {
     "data": {
      "text/html": [
       "<div>\n",
       "<style scoped>\n",
       "    .dataframe tbody tr th:only-of-type {\n",
       "        vertical-align: middle;\n",
       "    }\n",
       "\n",
       "    .dataframe tbody tr th {\n",
       "        vertical-align: top;\n",
       "    }\n",
       "\n",
       "    .dataframe thead th {\n",
       "        text-align: right;\n",
       "    }\n",
       "</style>\n",
       "<table border=\"1\" class=\"dataframe\">\n",
       "  <thead>\n",
       "    <tr style=\"text-align: right;\">\n",
       "      <th></th>\n",
       "      <th>price</th>\n",
       "      <th>area</th>\n",
       "      <th>bedrooms</th>\n",
       "      <th>bathrooms</th>\n",
       "      <th>stories</th>\n",
       "      <th>mainroad</th>\n",
       "      <th>guestroom</th>\n",
       "      <th>basement</th>\n",
       "      <th>hotwaterheating</th>\n",
       "      <th>airconditioning</th>\n",
       "      <th>parking</th>\n",
       "      <th>prefarea</th>\n",
       "      <th>furnishingstatus</th>\n",
       "    </tr>\n",
       "  </thead>\n",
       "  <tbody>\n",
       "    <tr>\n",
       "      <th>0</th>\n",
       "      <td>13300000</td>\n",
       "      <td>7420</td>\n",
       "      <td>4</td>\n",
       "      <td>2</td>\n",
       "      <td>3</td>\n",
       "      <td>yes</td>\n",
       "      <td>no</td>\n",
       "      <td>no</td>\n",
       "      <td>no</td>\n",
       "      <td>yes</td>\n",
       "      <td>2</td>\n",
       "      <td>yes</td>\n",
       "      <td>furnished</td>\n",
       "    </tr>\n",
       "    <tr>\n",
       "      <th>1</th>\n",
       "      <td>12250000</td>\n",
       "      <td>8960</td>\n",
       "      <td>4</td>\n",
       "      <td>4</td>\n",
       "      <td>4</td>\n",
       "      <td>yes</td>\n",
       "      <td>no</td>\n",
       "      <td>no</td>\n",
       "      <td>no</td>\n",
       "      <td>yes</td>\n",
       "      <td>3</td>\n",
       "      <td>no</td>\n",
       "      <td>furnished</td>\n",
       "    </tr>\n",
       "    <tr>\n",
       "      <th>2</th>\n",
       "      <td>12250000</td>\n",
       "      <td>9960</td>\n",
       "      <td>3</td>\n",
       "      <td>2</td>\n",
       "      <td>2</td>\n",
       "      <td>yes</td>\n",
       "      <td>no</td>\n",
       "      <td>yes</td>\n",
       "      <td>no</td>\n",
       "      <td>no</td>\n",
       "      <td>2</td>\n",
       "      <td>yes</td>\n",
       "      <td>semi-furnished</td>\n",
       "    </tr>\n",
       "    <tr>\n",
       "      <th>3</th>\n",
       "      <td>12215000</td>\n",
       "      <td>7500</td>\n",
       "      <td>4</td>\n",
       "      <td>2</td>\n",
       "      <td>2</td>\n",
       "      <td>yes</td>\n",
       "      <td>no</td>\n",
       "      <td>yes</td>\n",
       "      <td>no</td>\n",
       "      <td>yes</td>\n",
       "      <td>3</td>\n",
       "      <td>yes</td>\n",
       "      <td>furnished</td>\n",
       "    </tr>\n",
       "    <tr>\n",
       "      <th>4</th>\n",
       "      <td>11410000</td>\n",
       "      <td>7420</td>\n",
       "      <td>4</td>\n",
       "      <td>1</td>\n",
       "      <td>2</td>\n",
       "      <td>yes</td>\n",
       "      <td>yes</td>\n",
       "      <td>yes</td>\n",
       "      <td>no</td>\n",
       "      <td>yes</td>\n",
       "      <td>2</td>\n",
       "      <td>no</td>\n",
       "      <td>furnished</td>\n",
       "    </tr>\n",
       "    <tr>\n",
       "      <th>...</th>\n",
       "      <td>...</td>\n",
       "      <td>...</td>\n",
       "      <td>...</td>\n",
       "      <td>...</td>\n",
       "      <td>...</td>\n",
       "      <td>...</td>\n",
       "      <td>...</td>\n",
       "      <td>...</td>\n",
       "      <td>...</td>\n",
       "      <td>...</td>\n",
       "      <td>...</td>\n",
       "      <td>...</td>\n",
       "      <td>...</td>\n",
       "    </tr>\n",
       "    <tr>\n",
       "      <th>540</th>\n",
       "      <td>1820000</td>\n",
       "      <td>3000</td>\n",
       "      <td>2</td>\n",
       "      <td>1</td>\n",
       "      <td>1</td>\n",
       "      <td>yes</td>\n",
       "      <td>no</td>\n",
       "      <td>yes</td>\n",
       "      <td>no</td>\n",
       "      <td>no</td>\n",
       "      <td>2</td>\n",
       "      <td>no</td>\n",
       "      <td>unfurnished</td>\n",
       "    </tr>\n",
       "    <tr>\n",
       "      <th>541</th>\n",
       "      <td>1767150</td>\n",
       "      <td>2400</td>\n",
       "      <td>3</td>\n",
       "      <td>1</td>\n",
       "      <td>1</td>\n",
       "      <td>no</td>\n",
       "      <td>no</td>\n",
       "      <td>no</td>\n",
       "      <td>no</td>\n",
       "      <td>no</td>\n",
       "      <td>0</td>\n",
       "      <td>no</td>\n",
       "      <td>semi-furnished</td>\n",
       "    </tr>\n",
       "    <tr>\n",
       "      <th>542</th>\n",
       "      <td>1750000</td>\n",
       "      <td>3620</td>\n",
       "      <td>2</td>\n",
       "      <td>1</td>\n",
       "      <td>1</td>\n",
       "      <td>yes</td>\n",
       "      <td>no</td>\n",
       "      <td>no</td>\n",
       "      <td>no</td>\n",
       "      <td>no</td>\n",
       "      <td>0</td>\n",
       "      <td>no</td>\n",
       "      <td>unfurnished</td>\n",
       "    </tr>\n",
       "    <tr>\n",
       "      <th>543</th>\n",
       "      <td>1750000</td>\n",
       "      <td>2910</td>\n",
       "      <td>3</td>\n",
       "      <td>1</td>\n",
       "      <td>1</td>\n",
       "      <td>no</td>\n",
       "      <td>no</td>\n",
       "      <td>no</td>\n",
       "      <td>no</td>\n",
       "      <td>no</td>\n",
       "      <td>0</td>\n",
       "      <td>no</td>\n",
       "      <td>furnished</td>\n",
       "    </tr>\n",
       "    <tr>\n",
       "      <th>544</th>\n",
       "      <td>1750000</td>\n",
       "      <td>3850</td>\n",
       "      <td>3</td>\n",
       "      <td>1</td>\n",
       "      <td>2</td>\n",
       "      <td>yes</td>\n",
       "      <td>no</td>\n",
       "      <td>no</td>\n",
       "      <td>no</td>\n",
       "      <td>no</td>\n",
       "      <td>0</td>\n",
       "      <td>no</td>\n",
       "      <td>unfurnished</td>\n",
       "    </tr>\n",
       "  </tbody>\n",
       "</table>\n",
       "<p>545 rows × 13 columns</p>\n",
       "</div>"
      ],
      "text/plain": [
       "        price  area  bedrooms  bathrooms  stories mainroad guestroom basement  \\\n",
       "0    13300000  7420         4          2        3      yes        no       no   \n",
       "1    12250000  8960         4          4        4      yes        no       no   \n",
       "2    12250000  9960         3          2        2      yes        no      yes   \n",
       "3    12215000  7500         4          2        2      yes        no      yes   \n",
       "4    11410000  7420         4          1        2      yes       yes      yes   \n",
       "..        ...   ...       ...        ...      ...      ...       ...      ...   \n",
       "540   1820000  3000         2          1        1      yes        no      yes   \n",
       "541   1767150  2400         3          1        1       no        no       no   \n",
       "542   1750000  3620         2          1        1      yes        no       no   \n",
       "543   1750000  2910         3          1        1       no        no       no   \n",
       "544   1750000  3850         3          1        2      yes        no       no   \n",
       "\n",
       "    hotwaterheating airconditioning  parking prefarea furnishingstatus  \n",
       "0                no             yes        2      yes        furnished  \n",
       "1                no             yes        3       no        furnished  \n",
       "2                no              no        2      yes   semi-furnished  \n",
       "3                no             yes        3      yes        furnished  \n",
       "4                no             yes        2       no        furnished  \n",
       "..              ...             ...      ...      ...              ...  \n",
       "540              no              no        2       no      unfurnished  \n",
       "541              no              no        0       no   semi-furnished  \n",
       "542              no              no        0       no      unfurnished  \n",
       "543              no              no        0       no        furnished  \n",
       "544              no              no        0       no      unfurnished  \n",
       "\n",
       "[545 rows x 13 columns]"
      ]
     },
     "execution_count": 3,
     "metadata": {},
     "output_type": "execute_result"
    }
   ],
   "source": [
    "#1 Import the dataset (Housing.csv) and look at the top five rows\n",
    "df = pd.read_csv('Housing.csv')\n",
    "df"
   ]
  },
  {
   "cell_type": "code",
   "execution_count": 4,
   "id": "0b429f32-4c68-43ad-8fd1-2fe90503fd88",
   "metadata": {},
   "outputs": [
    {
     "data": {
      "text/plain": [
       "(545, 13)"
      ]
     },
     "execution_count": 4,
     "metadata": {},
     "output_type": "execute_result"
    }
   ],
   "source": [
    "#2 Check the shape of the DataFrame (rows, columns)\n",
    "df.shape"
   ]
  },
  {
   "cell_type": "code",
   "execution_count": 5,
   "id": "661fff1a-6c1f-4876-9a5b-c886c0aad902",
   "metadata": {},
   "outputs": [
    {
     "data": {
      "text/plain": [
       "price                int64\n",
       "area                 int64\n",
       "bedrooms             int64\n",
       "bathrooms            int64\n",
       "stories              int64\n",
       "mainroad            object\n",
       "guestroom           object\n",
       "basement            object\n",
       "hotwaterheating     object\n",
       "airconditioning     object\n",
       "parking              int64\n",
       "prefarea            object\n",
       "furnishingstatus    object\n",
       "dtype: object"
      ]
     },
     "execution_count": 5,
     "metadata": {},
     "output_type": "execute_result"
    }
   ],
   "source": [
    "#3 Look at the data types of the columns\n",
    "df.dtypes"
   ]
  },
  {
   "cell_type": "code",
   "execution_count": 6,
   "id": "cb86b308-69c4-4aec-a9fd-6d74857468ec",
   "metadata": {},
   "outputs": [
    {
     "name": "stdout",
     "output_type": "stream",
     "text": [
      "Missing Values Count:\n",
      " price               0\n",
      "area                0\n",
      "bedrooms            0\n",
      "bathrooms           0\n",
      "stories             0\n",
      "mainroad            0\n",
      "guestroom           0\n",
      "basement            0\n",
      "hotwaterheating     0\n",
      "airconditioning     0\n",
      "parking             0\n",
      "prefarea            0\n",
      "furnishingstatus    0\n",
      "dtype: int64\n",
      "\n",
      "Missing Values After Handling:\n",
      " price               0\n",
      "area                0\n",
      "bedrooms            0\n",
      "bathrooms           0\n",
      "stories             0\n",
      "mainroad            0\n",
      "guestroom           0\n",
      "basement            0\n",
      "hotwaterheating     0\n",
      "airconditioning     0\n",
      "parking             0\n",
      "prefarea            0\n",
      "furnishingstatus    0\n",
      "dtype: int64\n"
     ]
    }
   ],
   "source": [
    "#4 Check for missing  values if any, replace with appropriate values\n",
    "missing_values = df.isnull().sum()\n",
    "\n",
    "# Print missing values count\n",
    "print(\"Missing Values Count:\\n\", missing_values)\n",
    "\n",
    "# Handle missing values\n",
    "for column in df.columns:\n",
    "    if df[column].isnull().sum() > 0:  # If column has missing values\n",
    "        if df[column].dtype == \"object\":  # If categorical, fill with mode\n",
    "            df[column].fillna(df[column].mode()[0], inplace=True)\n",
    "        else:  # If numerical, fill with mean\n",
    "            df[column].fillna(df[column].mean(), inplace=True)\n",
    "\n",
    "# Verify if missing values are handled\n",
    "print(\"\\nMissing Values After Handling:\\n\", df.isnull().sum())"
   ]
  },
  {
   "cell_type": "code",
   "execution_count": 7,
   "id": "e03d9624-c3db-4ae4-a7af-bf570b956c19",
   "metadata": {},
   "outputs": [],
   "source": [
    "#5 Prepare  X (independent variables) and y (dependent variable)\n",
    "X = df.iloc[:,:-1]\n",
    "y = df.iloc[:,-1]"
   ]
  },
  {
   "cell_type": "code",
   "execution_count": 8,
   "id": "41009947-bf5b-4e15-beb0-5cfc761d8b7d",
   "metadata": {},
   "outputs": [
    {
     "data": {
      "image/png": "[encoded data removed]",
      "text/plain": [
       "<Figure size 640x480 with 1 Axes>"
      ]
     },
     "metadata": {},
     "output_type": "display_data"
    }
   ],
   "source": [
    "#6 Visualise the relationship between the independent variables and the depenedent variable using scatterplots\n",
    "plt.scatter(df.iloc[:,0], df.iloc[:,3], color = 'red')\n",
    "plt.scatter(df.iloc[:,1], df.iloc[:,3], color = 'blue')\n",
    "plt.scatter(df.iloc[:,2], df.iloc[:,3], color = 'green')\n",
    "plt.show()"
   ]
  },
  {
   "cell_type": "code",
   "execution_count": 13,
   "id": "19f90195-0633-4388-9e6e-9e82ffffd6a1",
   "metadata": {},
   "outputs": [
    {
     "name": "stdout",
     "output_type": "stream",
     "text": [
      "Columns in dataset: ['price', 'area', 'bedrooms', 'bathrooms', 'stories', 'mainroad', 'guestroom', 'basement', 'hotwaterheating', 'airconditioning', 'parking', 'prefarea', 'furnishingstatus']\n",
      "Categorical Columns: ['mainroad', 'guestroom', 'basement', 'hotwaterheating', 'airconditioning', 'prefarea', 'furnishingstatus']\n",
      "\n",
      "Transformed X (First 5 Rows):\n",
      "    area  bedrooms  bathrooms  stories  mainroad  guestroom  basement  \\\n",
      "0  7420         4          2        3         1          0         0   \n",
      "1  8960         4          4        4         1          0         0   \n",
      "2  9960         3          2        2         1          0         1   \n",
      "3  7500         4          2        2         1          0         1   \n",
      "4  7420         4          1        2         1          1         1   \n",
      "\n",
      "   hotwaterheating  airconditioning  parking  prefarea  \\\n",
      "0                0                1        2         1   \n",
      "1                0                1        3         0   \n",
      "2                0                0        2         1   \n",
      "3                0                1        3         1   \n",
      "4                0                1        2         0   \n",
      "\n",
      "   furnishingstatus_semi-furnished  furnishingstatus_unfurnished  \n",
      "0                              0.0                           0.0  \n",
      "1                              0.0                           0.0  \n",
      "2                              1.0                           0.0  \n",
      "3                              0.0                           0.0  \n",
      "4                              0.0                           0.0  \n"
     ]
    },
    {
     "name": "stderr",
     "output_type": "stream",
     "text": [
      "/home/user/anaconda3/lib/python3.11/site-packages/sklearn/preprocessing/_encoders.py:868: FutureWarning: `sparse` was renamed to `sparse_output` in version 1.2 and will be removed in 1.4. `sparse_output` is ignored unless you leave `sparse` to its default value.\n",
      "  warnings.warn(\n"
     ]
    }
   ],
   "source": [
    "#7 Encoding categorical data in X\n",
    "print(\"Columns in dataset:\", df.columns.tolist())\n",
    "\n",
    "# Clean column names by stripping spaces (if any)\n",
    "df.columns = df.columns.str.strip()\n",
    "\n",
    "# Verify if \"Price\" exists\n",
    "if \"price\" not in df.columns:\n",
    "    raise ValueError(\"Error: 'Price' column not found in dataset. Check column names.\")\n",
    "\n",
    "# Identify categorical columns\n",
    "categorical_cols = df.select_dtypes(include=[\"object\"]).columns.tolist()\n",
    "print(\"Categorical Columns:\", categorical_cols)\n",
    "\n",
    "# Initialize encoders\n",
    "label_encoder = LabelEncoder()\n",
    "one_hot_encoder = OneHotEncoder(sparse=False, drop=\"first\")\n",
    "\n",
    "# Encoding categorical variables in X\n",
    "X = df.drop(columns=[\"price\"])  # Drop target column\n",
    "y = df[\"price\"]  # Target variable\n",
    "\n",
    "for col in categorical_cols:\n",
    "    if col in X.columns:\n",
    "        if X[col].nunique() <= 2:  # If only 2 unique values, use Label Encoding\n",
    "            X[col] = label_encoder.fit_transform(X[col])\n",
    "        else:  # Use One-Hot Encoding for more than 2 unique values\n",
    "            encoded_data = one_hot_encoder.fit_transform(X[[col]])\n",
    "            encoded_df = pd.DataFrame(encoded_data, columns=one_hot_encoder.get_feature_names_out([col]))\n",
    "            X = pd.concat([X.drop(columns=[col]), encoded_df], axis=1)\n",
    "\n",
    "# Print transformed dataset\n",
    "print(\"\\nTransformed X (First 5 Rows):\\n\", X.head())"
   ]
  },
  {
   "cell_type": "code",
   "execution_count": 15,
   "id": "8b91fa2d-0728-422e-91bf-81c6375b65a4",
   "metadata": {},
   "outputs": [
    {
     "name": "stdout",
     "output_type": "stream",
     "text": [
      "Categorical Columns: ['mainroad', 'guestroom', 'basement', 'hotwaterheating', 'airconditioning', 'prefarea', 'furnishingstatus']\n",
      "\n",
      "Transformed X (First 5 Rows):\n",
      "    area  bedrooms  bathrooms  stories  mainroad  guestroom  basement  \\\n",
      "0  7420         4          2        3         1          0         0   \n",
      "1  8960         4          4        4         1          0         0   \n",
      "2  9960         3          2        2         1          0         1   \n",
      "3  7500         4          2        2         1          0         1   \n",
      "4  7420         4          1        2         1          1         1   \n",
      "\n",
      "   hotwaterheating  airconditioning  parking  prefarea  \\\n",
      "0                0                1        2         1   \n",
      "1                0                1        3         0   \n",
      "2                0                0        2         1   \n",
      "3                0                1        3         1   \n",
      "4                0                1        2         0   \n",
      "\n",
      "   furnishingstatus_semi-furnished  furnishingstatus_unfurnished  \n",
      "0                              0.0                           0.0  \n",
      "1                              0.0                           0.0  \n",
      "2                              1.0                           0.0  \n",
      "3                              0.0                           0.0  \n",
      "4                              0.0                           0.0  \n"
     ]
    },
    {
     "name": "stderr",
     "output_type": "stream",
     "text": [
      "/home/user/anaconda3/lib/python3.11/site-packages/sklearn/preprocessing/_encoders.py:868: FutureWarning: `sparse` was renamed to `sparse_output` in version 1.2 and will be removed in 1.4. `sparse_output` is ignored unless you leave `sparse` to its default value.\n",
      "  warnings.warn(\n"
     ]
    }
   ],
   "source": [
    "#8  Avoiding the Dummy Variable Trap\n",
    "df.columns = df.columns.str.strip()\n",
    "\n",
    "# Identify categorical columns\n",
    "categorical_cols = df.select_dtypes(include=[\"object\"]).columns.tolist()\n",
    "print(\"Categorical Columns:\", categorical_cols)\n",
    "\n",
    "# Initialize encoders\n",
    "label_encoder = LabelEncoder()\n",
    "one_hot_encoder = OneHotEncoder(sparse=False, drop=\"first\")  # Drop first column to avoid dummy variable trap\n",
    "\n",
    "# Define X (features) and y (target)\n",
    "if \"price\" in df.columns:\n",
    "    X = df.drop(columns=[\"price\"])  # Drop target column\n",
    "    y = df[\"price\"]\n",
    "else:\n",
    "    raise ValueError(\"Error: 'Price' column not found in dataset. Check column names.\")\n",
    "\n",
    "# Apply encoding\n",
    "for col in categorical_cols:\n",
    "    if col in X.columns:\n",
    "        if X[col].nunique() <= 2:  # If only 2 unique values, use Label Encoding\n",
    "            X[col] = label_encoder.fit_transform(X[col])\n",
    "        else:  # Use One-Hot Encoding for more than 2 unique values\n",
    "            encoded_data = one_hot_encoder.fit_transform(X[[col]])\n",
    "            encoded_df = pd.DataFrame(encoded_data, columns=one_hot_encoder.get_feature_names_out([col]))\n",
    "            X = pd.concat([X.drop(columns=[col]), encoded_df], axis=1)\n",
    "\n",
    "# Print transformed dataset\n",
    "print(\"\\nTransformed X (First 5 Rows):\\n\", X.head())"
   ]
  },
  {
   "cell_type": "code",
   "execution_count": 16,
   "id": "488d83f7-f328-4710-b8be-d60605f18f41",
   "metadata": {},
   "outputs": [
    {
     "name": "stdout",
     "output_type": "stream",
     "text": [
      "Numerical Columns for Scaling: ['area', 'bedrooms', 'bathrooms', 'stories', 'parking']\n",
      "\n",
      "Scaled Numerical Features (First 5 Rows):\n",
      "       price      area  bedrooms  bathrooms   stories mainroad guestroom  \\\n",
      "0  13300000  1.046726  1.403419   1.421812  1.378217      yes        no   \n",
      "1  12250000  1.757010  1.403419   5.405809  2.532024      yes        no   \n",
      "2  12250000  2.218232  0.047278   1.421812  0.224410      yes        no   \n",
      "3  12215000  1.083624  1.403419   1.421812  0.224410      yes        no   \n",
      "4  11410000  1.046726  1.403419  -0.570187  0.224410      yes       yes   \n",
      "\n",
      "  basement hotwaterheating airconditioning   parking prefarea furnishingstatus  \n",
      "0       no              no             yes  1.517692      yes        furnished  \n",
      "1       no              no             yes  2.679409       no        furnished  \n",
      "2      yes              no              no  1.517692      yes   semi-furnished  \n",
      "3      yes              no             yes  2.679409      yes        furnished  \n",
      "4      yes              no             yes  1.517692       no        furnished  \n"
     ]
    }
   ],
   "source": [
    "#9 Apply feature scaling on numerical variables\n",
    "from sklearn.preprocessing import StandardScaler, MinMaxScaler\n",
    "\n",
    "# Clean column names by stripping spaces\n",
    "df.columns = df.columns.str.strip()\n",
    "\n",
    "# Identify numerical columns (excluding target variable \"Price\")\n",
    "numerical_cols = df.select_dtypes(include=[\"int64\", \"float64\"]).columns.tolist()\n",
    "\n",
    "if \"price\" in numerical_cols:\n",
    "    numerical_cols.remove(\"price\")  # Keep target variable unchanged\n",
    "\n",
    "print(\"Numerical Columns for Scaling:\", numerical_cols)\n",
    "\n",
    "# Initialize scalers\n",
    "scaler = StandardScaler()  # Use MinMaxScaler() for Min-Max Scaling\n",
    "\n",
    "# Apply feature scaling\n",
    "df[numerical_cols] = scaler.fit_transform(df[numerical_cols])\n",
    "\n",
    "# Print transformed dataset\n",
    "print(\"\\nScaled Numerical Features (First 5 Rows):\\n\", df.head())"
   ]
  },
  {
   "cell_type": "code",
   "execution_count": 17,
   "id": "1acf2436-7668-4eb9-9b9f-48d4a2976020",
   "metadata": {},
   "outputs": [],
   "source": [
    "#10 Split Data into Training and Testing Sets (70%-Train 30%-Test) - X_train, y_train, X_test, y_test\n",
    "from sklearn.model_selection import train_test_split\n",
    "X_train, X_test, y_train, y_test = train_test_split(X,y, test_size = 0.3)"
   ]
  },
  {
   "cell_type": "code",
   "execution_count": 18,
   "id": "d011419c-d0e5-4186-8e0d-b5f1d42d3dbd",
   "metadata": {},
   "outputs": [
    {
     "name": "stdout",
     "output_type": "stream",
     "text": [
      "R² Score: 0.6463350878895877\n",
      "Coefficients: [ 549164.54164962   59649.5044      559614.4809304   361644.23977858\n",
      "  260916.61906937  408073.6819066   275710.53305175  482603.52188223\n",
      "  616375.42271861  685839.34559965  509192.08881309 -121652.66300036\n",
      " -391191.24078511]\n",
      "Intercept: 4037655.7030224795\n"
     ]
    }
   ],
   "source": [
    "#11 Fitting Multiple Linear Regression to the Training\n",
    "from sklearn.model_selection import train_test_split\n",
    "from sklearn.linear_model import LinearRegression\n",
    "from sklearn.metrics import r2_score\n",
    "\n",
    "df.columns = df.columns.str.strip()\n",
    "\n",
    "# Define independent variables (X) and dependent variable (y)\n",
    "if \"price\" in df.columns:\n",
    "    X = df.drop(columns=[\"price\"])  # Features\n",
    "    y = df[\"price\"]  # Target variable\n",
    "else:\n",
    "    raise ValueError(\"Error: 'Price' column not found in dataset.\")\n",
    "\n",
    "# Convert categorical variables (if any) into numerical using one-hot encoding\n",
    "X = pd.get_dummies(X, drop_first=True)  # Avoid dummy variable trap\n",
    "\n",
    "# Split dataset into 70% training and 30% testing\n",
    "X_train, X_test, y_train, y_test = train_test_split(X, y, test_size=0.3, random_state=42)\n",
    "\n",
    "# Train Multiple Linear Regression model\n",
    "regressor = LinearRegression()\n",
    "regressor.fit(X_train, y_train)\n",
    "\n",
    "# Make predictions on the test set\n",
    "y_pred = regressor.predict(X_test)\n",
    "\n",
    "# Evaluate the model using R² score\n",
    "r2 = r2_score(y_test, y_pred)\n",
    "print(\"R² Score:\", r2)\n",
    "\n",
    "# Print model coefficients\n",
    "print(\"Coefficients:\", regressor.coef_)\n",
    "print(\"Intercept:\", regressor.intercept_)"
   ]
  },
  {
   "cell_type": "code",
   "execution_count": 19,
   "id": "2c57f32b-58dc-4a80-839b-b3cfa29ac3c4",
   "metadata": {},
   "outputs": [
    {
     "name": "stdout",
     "output_type": "stream",
     "text": [
      "First 5 Training Errors:\n",
      " 126   -5.810803e+05\n",
      "363   -1.098328e+05\n",
      "370    8.121415e+05\n",
      "31    -1.926221e+06\n",
      "113    2.301975e+05\n",
      "Name: price, dtype: float64\n",
      "\n",
      "Mean Absolute Error (MAE) on Training Set: 720245.1987194591\n"
     ]
    }
   ],
   "source": [
    "#12 Predict on the train set and calculate the error = y_pred - y_train\n",
    "y_train_pred = regressor.predict(X_train)\n",
    "\n",
    "# Calculate error\n",
    "train_error = y_train_pred - y_train\n",
    "\n",
    "# Print first few error values\n",
    "print(\"First 5 Training Errors:\\n\", train_error.head())\n",
    "\n",
    "# Optionally, calculate mean absolute error (MAE) for better understanding\n",
    "mae = np.mean(abs(train_error))\n",
    "print(\"\\nMean Absolute Error (MAE) on Training Set:\", mae)"
   ]
  },
  {
   "cell_type": "code",
   "execution_count": 20,
   "id": "af715af0-0022-4851-b3b0-ffd7898ef2ae",
   "metadata": {},
   "outputs": [
    {
     "data": {
      "image/png": "[encoded data removed]",
      "text/plain": [
       "<Figure size 800x500 with 1 Axes>"
      ]
     },
     "metadata": {},
     "output_type": "display_data"
    }
   ],
   "source": [
    "#13  Residual plot - plot y_pred in x axis and errors in y axis\n",
    "residuals = y_train_pred - y_train\n",
    "\n",
    "# Plot residuals\n",
    "plt.figure(figsize=(8, 5))\n",
    "sns.scatterplot(x=y_train_pred, y=residuals, alpha=0.6, edgecolor=\"k\")\n",
    "\n",
    "# Add horizontal reference line at y=0\n",
    "plt.axhline(y=0, color='r', linestyle='--')\n",
    "\n",
    "# Labels and title\n",
    "plt.xlabel(\"Predicted Values (y_pred)\")\n",
    "plt.ylabel(\"Residuals (Error)\")\n",
    "plt.title(\"Residual Plot: Predicted Values vs. Errors\")\n",
    "plt.show()"
   ]
  },
  {
   "cell_type": "code",
   "execution_count": 21,
   "id": "588a7ea5-6745-4930-9d37-8cb25ec48ddb",
   "metadata": {},
   "outputs": [
    {
     "name": "stdout",
     "output_type": "stream",
     "text": [
      "First 5 Predictions on Test Set:\n",
      " [5372312.61614641 7069241.00525806 3099290.78784024 4526446.61703974\n",
      " 3281573.61192656]\n"
     ]
    }
   ],
   "source": [
    "#14  Predict on the test set\n",
    "y_test_pred = regressor.predict(X_test)\n",
    "\n",
    "# Print first few predicted values\n",
    "print(\"First 5 Predictions on Test Set:\\n\", y_test_pred[:5])"
   ]
  },
  {
   "cell_type": "code",
   "execution_count": 22,
   "id": "0e896fc1-af23-4842-b710-223d0982666e",
   "metadata": {},
   "outputs": [
    {
     "data": {
      "image/png": "[encoded data removed]",
      "text/plain": [
       "<Figure size 800x500 with 1 Axes>"
      ]
     },
     "metadata": {},
     "output_type": "display_data"
    }
   ],
   "source": [
    "#15 Residual plot - plot y_pred in x axis and errors in y axis\n",
    "test_residuals = y_test_pred - y_test\n",
    "\n",
    "# Plot residuals\n",
    "plt.figure(figsize=(8, 5))\n",
    "sns.scatterplot(x=y_test_pred, y=test_residuals, alpha=0.6, edgecolor=\"k\")\n",
    "\n",
    "# Add horizontal reference line at y=0\n",
    "plt.axhline(y=0, color='r', linestyle='--')\n",
    "\n",
    "# Labels and title\n",
    "plt.xlabel(\"Predicted Values (y_pred)\")\n",
    "plt.ylabel(\"Residuals (Error)\")\n",
    "plt.title(\"Residual Plot: Predicted Values vs. Errors (Test Set)\")\n",
    "plt.show()"
   ]
  },
  {
   "cell_type": "code",
   "execution_count": 23,
   "id": "aabaab50-706c-413f-ab29-47ede66917b1",
   "metadata": {},
   "outputs": [
    {
     "name": "stdout",
     "output_type": "stream",
     "text": [
      "Mean Squared Error (MSE): 1523019469501.2913\n",
      "R Squared Value (R²): 0.6463350878895877\n"
     ]
    }
   ],
   "source": [
    "#16 Print Mean Squared Error and R Squared Value\n",
    "from sklearn.metrics import mean_squared_error, r2_score\n",
    "\n",
    "# Calculate Mean Squared Error (MSE)\n",
    "mse = mean_squared_error(y_test, y_test_pred)\n",
    "\n",
    "# Calculate R Squared Score\n",
    "r2 = r2_score(y_test, y_test_pred)\n",
    "\n",
    "# Print results\n",
    "print(\"Mean Squared Error (MSE):\", mse)\n",
    "print(\"R Squared Value (R²):\", r2)"
   ]
  },
  {
   "cell_type": "code",
   "execution_count": 26,
   "id": "89e98b63-04b7-4a82-b324-6108cf4cd79a",
   "metadata": {},
   "outputs": [
    {
     "name": "stdout",
     "output_type": "stream",
     "text": [
      "\n",
      "Features Used: ['area', 'bedrooms']\n",
      "R² Score: 0.32943000309029635\n",
      "Adjusted R² Score: 0.3210999410168839\n",
      "\n",
      "Features Used: ['area', 'bedrooms', 'bathrooms']\n",
      "R² Score: 0.44736815556478504\n",
      "Adjusted R² Score: 0.4370063084816247\n",
      "\n",
      "Features Used: ['area', 'bedrooms', 'bathrooms', 'stories', 'parking', 'mainroad_yes', 'guestroom_yes', 'basement_yes', 'hotwaterheating_yes', 'airconditioning_yes', 'prefarea_yes', 'furnishingstatus_semi-furnished', 'furnishingstatus_unfurnished']\n",
      "R² Score: 0.6463350878895877\n",
      "Adjusted R² Score: 0.6156841288400186\n"
     ]
    }
   ],
   "source": [
    "#17 Check  Adjusted R Squared Value(by selecting different no of input variables insted of all)\n",
    "def adjusted_r2(r2, n, k):\n",
    "    \"\"\"Calculate Adjusted R² given R², sample size (n), and number of predictors (k).\"\"\"\n",
    "    return 1 - ((1 - r2) * (n - 1) / (n - k - 1))\n",
    "\n",
    "# Try different feature selections\n",
    "feature_sets = [\n",
    "    [\"area\", \"bedrooms\"],  # Select only 2 features\n",
    "    [\"area\", \"bedrooms\", \"bathrooms\"],  # Select 3 features\n",
    "    X_train.columns.tolist(),  # All features\n",
    "]\n",
    "\n",
    "for features in feature_sets:\n",
    "    # Train model with selected features\n",
    "    X_train_selected = X_train[features]\n",
    "    X_test_selected = X_test[features]\n",
    "    \n",
    "    regressor.fit(X_train_selected, y_train)\n",
    "    y_test_pred_selected = regressor.predict(X_test_selected)\n",
    "\n",
    "    # Compute R² and Adjusted R²\n",
    "    r2_selected = r2_score(y_test, y_test_pred_selected)\n",
    "    adj_r2_selected = adjusted_r2(r2_selected, X_test_selected.shape[0], len(features))\n",
    "\n",
    "    # Print results\n",
    "    print(f\"\\nFeatures Used: {features}\")\n",
    "    print(\"R² Score:\", r2_selected)\n",
    "    print(\"Adjusted R² Score:\", adj_r2_selected)"
   ]
  },
  {
   "cell_type": "code",
   "execution_count": null,
   "id": "f2abd31f-c078-4a74-a2d8-6ba840e5d744",
   "metadata": {},
   "outputs": [],
   "source": []
  }
 ],
 "metadata": {
  "kernelspec": {
   "display_name": "Python 3 (ipykernel)",
   "language": "python",
   "name": "python3"
  },
  "language_info": {
   "codemirror_mode": {
    "name": "ipython",
    "version": 3
   },
   "file_extension": ".py",
   "mimetype": "text/x-python",
   "name": "python",
   "nbconvert_exporter": "python",
   "pygments_lexer": "ipython3",
   "version": "3.11.7"
  }
 },
 "nbformat": 4,
 "nbformat_minor": 5
}
