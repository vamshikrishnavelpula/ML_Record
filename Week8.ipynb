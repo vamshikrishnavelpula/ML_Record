{
 "cells": [
  {
   "cell_type": "code",
   "execution_count": 1,
   "id": "55a659f3-f30a-4c3c-85e0-aa77b6a8c10e",
   "metadata": {},
   "outputs": [],
   "source": [
    "import numpy as np\n",
    "import matplotlib.pyplot as plt\n",
    "import pandas as pd"
   ]
  },
  {
   "cell_type": "code",
   "execution_count": 9,
   "id": "cdc9f304-8ffe-4f29-b949-0a0ba831ef28",
   "metadata": {},
   "outputs": [],
   "source": [
    "from sklearn.datasets import fetch_20newsgroups"
   ]
  },
  {
   "cell_type": "code",
   "execution_count": 10,
   "id": "32fc111b-d425-466a-b644-823c8e1df361",
   "metadata": {},
   "outputs": [
    {
     "data": {
      "text/plain": [
       "['alt.atheism',\n",
       " 'comp.graphics',\n",
       " 'comp.os.ms-windows.misc',\n",
       " 'comp.sys.ibm.pc.hardware',\n",
       " 'comp.sys.mac.hardware',\n",
       " 'comp.windows.x',\n",
       " 'misc.forsale',\n",
       " 'rec.autos',\n",
       " 'rec.motorcycles',\n",
       " 'rec.sport.baseball',\n",
       " 'rec.sport.hockey',\n",
       " 'sci.crypt',\n",
       " 'sci.electronics',\n",
       " 'sci.med',\n",
       " 'sci.space',\n",
       " 'soc.religion.christian',\n",
       " 'talk.politics.guns',\n",
       " 'talk.politics.mideast',\n",
       " 'talk.politics.misc',\n",
       " 'talk.religion.misc']"
      ]
     },
     "execution_count": 10,
     "metadata": {},
     "output_type": "execute_result"
    }
   ],
   "source": [
    "train=fetch_20newsgroups(subset='train')\n",
    "train.target_names"
   ]
  },
  {
   "cell_type": "code",
   "execution_count": 11,
   "id": "351958a4-eb96-4519-8a3c-19f68ec4f7f8",
   "metadata": {},
   "outputs": [
    {
     "data": {
      "text/plain": [
       "['alt.atheism',\n",
       " 'comp.graphics',\n",
       " 'comp.os.ms-windows.misc',\n",
       " 'comp.sys.ibm.pc.hardware',\n",
       " 'comp.sys.mac.hardware',\n",
       " 'comp.windows.x',\n",
       " 'misc.forsale',\n",
       " 'rec.autos',\n",
       " 'rec.motorcycles',\n",
       " 'rec.sport.baseball',\n",
       " 'rec.sport.hockey',\n",
       " 'sci.crypt',\n",
       " 'sci.electronics',\n",
       " 'sci.med',\n",
       " 'sci.space',\n",
       " 'soc.religion.christian',\n",
       " 'talk.politics.guns',\n",
       " 'talk.politics.mideast',\n",
       " 'talk.politics.misc',\n",
       " 'talk.religion.misc']"
      ]
     },
     "execution_count": 11,
     "metadata": {},
     "output_type": "execute_result"
    }
   ],
   "source": [
    "test=fetch_20newsgroups(subset='test')\n",
    "test.target_names"
   ]
  },
  {
   "cell_type": "code",
   "execution_count": 12,
   "id": "33ca29b3-9f9f-4d1b-af75-d4946c8a0e7a",
   "metadata": {},
   "outputs": [
    {
     "data": {
      "text/plain": [
       "'rec.autos'"
      ]
     },
     "execution_count": 12,
     "metadata": {},
     "output_type": "execute_result"
    }
   ],
   "source": [
    "train.target_names[train.target[0]]"
   ]
  },
  {
   "cell_type": "code",
   "execution_count": 13,
   "id": "f41686cf-8ae9-40e1-abff-477d81447cbb",
   "metadata": {},
   "outputs": [],
   "source": [
    "from sklearn.feature_extraction.text import CountVectorizer"
   ]
  },
  {
   "cell_type": "code",
   "execution_count": 14,
   "id": "26f0bbce-94f9-4a11-89c2-db6c8b335ce6",
   "metadata": {},
   "outputs": [],
   "source": [
    "CountVectorizer = CountVectorizer(max_features=1000)\n",
    "vect  = CountVectorizer.fit_transform(train.data)\n",
    "vect = vect.toarray()"
   ]
  },
  {
   "cell_type": "code",
   "execution_count": 15,
   "id": "d88088b0-827c-4f3e-bb17-60f313a09d16",
   "metadata": {
    "scrolled": true
   },
   "outputs": [
    {
     "data": {
      "text/plain": [
       "array([[0, 0, 0, ..., 0, 1, 0],\n",
       "       [0, 0, 0, ..., 0, 1, 0],\n",
       "       [0, 0, 0, ..., 0, 0, 0],\n",
       "       ...,\n",
       "       [0, 0, 0, ..., 0, 0, 0],\n",
       "       [0, 0, 0, ..., 0, 0, 0],\n",
       "       [0, 0, 0, ..., 0, 0, 0]])"
      ]
     },
     "execution_count": 15,
     "metadata": {},
     "output_type": "execute_result"
    }
   ],
   "source": [
    "vect"
   ]
  },
  {
   "cell_type": "code",
   "execution_count": 16,
   "id": "47d66e78-23c7-4cb6-8ad3-170c2e0f9651",
   "metadata": {},
   "outputs": [],
   "source": [
    "X = vect"
   ]
  },
  {
   "cell_type": "code",
   "execution_count": 35,
   "id": "aacdaa54-daa4-40eb-a4fe-41e3075836a4",
   "metadata": {},
   "outputs": [],
   "source": [
    "y = train.target"
   ]
  },
  {
   "cell_type": "code",
   "execution_count": 36,
   "id": "81506cfb-000d-4038-bd1c-efefa24a6a63",
   "metadata": {},
   "outputs": [
    {
     "data": {
      "text/plain": [
       "(7532, 1000)"
      ]
     },
     "execution_count": 36,
     "metadata": {},
     "output_type": "execute_result"
    }
   ],
   "source": [
    "X.shape"
   ]
  },
  {
   "cell_type": "code",
   "execution_count": 37,
   "id": "b4b3abec-b8e2-4b6c-ab09-b46845c7a8f4",
   "metadata": {},
   "outputs": [
    {
     "data": {
      "text/plain": [
       "(7532,)"
      ]
     },
     "execution_count": 37,
     "metadata": {},
     "output_type": "execute_result"
    }
   ],
   "source": [
    "y.shape"
   ]
  },
  {
   "cell_type": "code",
   "execution_count": 38,
   "id": "70622eb6-c5b2-4461-bbdd-48b2261d7fcb",
   "metadata": {},
   "outputs": [],
   "source": [
    "from sklearn.model_selection import train_test_split\n",
    "X_train, X_test, y_train, y_test = train_test_split(X, y, test_size=0.2, random_state=42)"
   ]
  },
  {
   "cell_type": "code",
   "execution_count": 42,
   "id": "ef8ec44e-a2a8-41ae-9962-57b4cd0647be",
   "metadata": {},
   "outputs": [
    {
     "data": {
      "text/html": [
       "<style>#sk-container-id-4 {color: black;background-color: white;}#sk-container-id-4 pre{padding: 0;}#sk-container-id-4 div.sk-toggleable {background-color: white;}#sk-container-id-4 label.sk-toggleable__label {cursor: pointer;display: block;width: 100%;margin-bottom: 0;padding: 0.3em;box-sizing: border-box;text-align: center;}#sk-container-id-4 label.sk-toggleable__label-arrow:before {content: \"▸\";float: left;margin-right: 0.25em;color: #696969;}#sk-container-id-4 label.sk-toggleable__label-arrow:hover:before {color: black;}#sk-container-id-4 div.sk-estimator:hover label.sk-toggleable__label-arrow:before {color: black;}#sk-container-id-4 div.sk-toggleable__content {max-height: 0;max-width: 0;overflow: hidden;text-align: left;background-color: #f0f8ff;}#sk-container-id-4 div.sk-toggleable__content pre {margin: 0.2em;color: black;border-radius: 0.25em;background-color: #f0f8ff;}#sk-container-id-4 input.sk-toggleable__control:checked~div.sk-toggleable__content {max-height: 200px;max-width: 100%;overflow: auto;}#sk-container-id-4 input.sk-toggleable__control:checked~label.sk-toggleable__label-arrow:before {content: \"▾\";}#sk-container-id-4 div.sk-estimator input.sk-toggleable__control:checked~label.sk-toggleable__label {background-color: #d4ebff;}#sk-container-id-4 div.sk-label input.sk-toggleable__control:checked~label.sk-toggleable__label {background-color: #d4ebff;}#sk-container-id-4 input.sk-hidden--visually {border: 0;clip: rect(1px 1px 1px 1px);clip: rect(1px, 1px, 1px, 1px);height: 1px;margin: -1px;overflow: hidden;padding: 0;position: absolute;width: 1px;}#sk-container-id-4 div.sk-estimator {font-family: monospace;background-color: #f0f8ff;border: 1px dotted black;border-radius: 0.25em;box-sizing: border-box;margin-bottom: 0.5em;}#sk-container-id-4 div.sk-estimator:hover {background-color: #d4ebff;}#sk-container-id-4 div.sk-parallel-item::after {content: \"\";width: 100%;border-bottom: 1px solid gray;flex-grow: 1;}#sk-container-id-4 div.sk-label:hover label.sk-toggleable__label {background-color: #d4ebff;}#sk-container-id-4 div.sk-serial::before {content: \"\";position: absolute;border-left: 1px solid gray;box-sizing: border-box;top: 0;bottom: 0;left: 50%;z-index: 0;}#sk-container-id-4 div.sk-serial {display: flex;flex-direction: column;align-items: center;background-color: white;padding-right: 0.2em;padding-left: 0.2em;position: relative;}#sk-container-id-4 div.sk-item {position: relative;z-index: 1;}#sk-container-id-4 div.sk-parallel {display: flex;align-items: stretch;justify-content: center;background-color: white;position: relative;}#sk-container-id-4 div.sk-item::before, #sk-container-id-4 div.sk-parallel-item::before {content: \"\";position: absolute;border-left: 1px solid gray;box-sizing: border-box;top: 0;bottom: 0;left: 50%;z-index: -1;}#sk-container-id-4 div.sk-parallel-item {display: flex;flex-direction: column;z-index: 1;position: relative;background-color: white;}#sk-container-id-4 div.sk-parallel-item:first-child::after {align-self: flex-end;width: 50%;}#sk-container-id-4 div.sk-parallel-item:last-child::after {align-self: flex-start;width: 50%;}#sk-container-id-4 div.sk-parallel-item:only-child::after {width: 0;}#sk-container-id-4 div.sk-dashed-wrapped {border: 1px dashed gray;margin: 0 0.4em 0.5em 0.4em;box-sizing: border-box;padding-bottom: 0.4em;background-color: white;}#sk-container-id-4 div.sk-label label {font-family: monospace;font-weight: bold;display: inline-block;line-height: 1.2em;}#sk-container-id-4 div.sk-label-container {text-align: center;}#sk-container-id-4 div.sk-container {/* jupyter's `normalize.less` sets `[hidden] { display: none; }` but bootstrap.min.css set `[hidden] { display: none !important; }` so we also need the `!important` here to be able to override the default hidden behavior on the sphinx rendered scikit-learn.org. See: https://github.com/scikit-learn/scikit-learn/issues/21755 */display: inline-block !important;position: relative;}#sk-container-id-4 div.sk-text-repr-fallback {display: none;}</style><div id=\"sk-container-id-4\" class=\"sk-top-container\"><div class=\"sk-text-repr-fallback\"><pre>MultinomialNB()</pre><b>In a Jupyter environment, please rerun this cell to show the HTML representation or trust the notebook. <br />On GitHub, the HTML representation is unable to render, please try loading this page with nbviewer.org.</b></div><div class=\"sk-container\" hidden><div class=\"sk-item\"><div class=\"sk-estimator sk-toggleable\"><input class=\"sk-toggleable__control sk-hidden--visually\" id=\"sk-estimator-id-4\" type=\"checkbox\" checked><label for=\"sk-estimator-id-4\" class=\"sk-toggleable__label sk-toggleable__label-arrow\">MultinomialNB</label><div class=\"sk-toggleable__content\"><pre>MultinomialNB()</pre></div></div></div></div></div>"
      ],
      "text/plain": [
       "MultinomialNB()"
      ]
     },
     "execution_count": 42,
     "metadata": {},
     "output_type": "execute_result"
    }
   ],
   "source": [
    "from os import XATTR_CREATE\n",
    "from sklearn.naive_bayes import MultinomialNB\n",
    "model = MultinomialNB()\n",
    "model.fit(X_train, y_train)"
   ]
  },
  {
   "cell_type": "code",
   "execution_count": 33,
   "id": "17f99323-8387-4862-a7bb-86c8dfd479d1",
   "metadata": {},
   "outputs": [],
   "source": [
    "y_pred = model.predict(X_test)"
   ]
  },
  {
   "cell_type": "code",
   "execution_count": 34,
   "id": "61150220-dd95-4b6e-ba8a-18ddbccaaa85",
   "metadata": {},
   "outputs": [],
   "source": [
    "from sklearn.metrics import accuracy_score, confusion_matrix\n",
    "acc = accuracy_score(y_test, y_pred)\n",
    "cm = confusion_matrix(y_test, y_pred)"
   ]
  },
  {
   "cell_type": "code",
   "execution_count": 35,
   "id": "5d20f817-91aa-4a41-9f5e-52e04120db34",
   "metadata": {},
   "outputs": [
    {
     "data": {
      "text/plain": [
       "0.6703490941228458"
      ]
     },
     "execution_count": 35,
     "metadata": {},
     "output_type": "execute_result"
    }
   ],
   "source": [
    "acc"
   ]
  },
  {
   "cell_type": "code",
   "execution_count": 36,
   "id": "d6dd01a1-5266-45f3-9fba-0f0fcb1ea8d0",
   "metadata": {},
   "outputs": [
    {
     "data": {
      "text/plain": [
       "array([[72,  0,  0,  0,  1,  0,  0,  0,  6,  1,  1,  0,  0,  2,  1,  2,\n",
       "         1,  1,  2,  7],\n",
       "       [ 0, 71,  0,  6,  9,  5,  2,  4,  1,  0,  0,  0,  5,  1,  0,  0,\n",
       "         0,  0,  0,  0],\n",
       "       [ 0, 35,  3, 43,  3, 20,  5,  2,  1,  0,  0,  0,  3,  0,  0,  0,\n",
       "         0,  0,  0,  0],\n",
       "       [ 0, 12,  0, 70, 18,  2, 11,  2,  3,  0,  0,  0,  3,  1,  0,  0,\n",
       "         0,  0,  1,  0],\n",
       "       [ 0,  5,  0, 11, 86,  0,  8,  1,  3,  0,  0,  0,  9,  2,  1,  0,\n",
       "         0,  0,  0,  0],\n",
       "       [ 1, 13,  0,  3,  4, 78,  3,  0,  0,  0,  0,  1,  3,  0,  0,  0,\n",
       "         0,  0,  0,  0],\n",
       "       [ 0,  0,  0,  3,  1,  0, 94,  5,  2,  1,  0,  0,  2,  0,  0,  0,\n",
       "         0,  0,  0,  1],\n",
       "       [ 0,  1,  0,  2,  5,  1,  6, 99, 13,  4,  0,  0,  5,  1,  0,  0,\n",
       "         1,  0,  1,  0],\n",
       "       [ 0,  1,  0,  0,  5,  1,  8,  4, 98,  0,  0,  0,  0,  2,  1,  0,\n",
       "         0,  0,  0,  2],\n",
       "       [ 0,  1,  0,  0,  1,  0,  2,  1,  4, 82,  5,  0,  2,  2,  1,  0,\n",
       "         1,  0,  0,  0],\n",
       "       [ 0,  0,  0,  0,  2,  1,  3,  3,  3, 20, 73,  0,  1,  1,  0,  0,\n",
       "         0,  0,  1,  0],\n",
       "       [ 2,  5,  0,  0,  1,  3,  0,  2,  6,  1,  0, 91,  4,  2,  1,  0,\n",
       "         1,  0,  5,  1],\n",
       "       [ 0,  7,  0,  6, 14,  1,  5,  4,  0,  1,  0,  2, 66,  0,  6,  0,\n",
       "         1,  0,  1,  0],\n",
       "       [ 2,  2,  0,  0,  1,  1,  0,  4,  8,  0,  0,  0,  2, 92,  2,  2,\n",
       "         0,  0,  2,  1],\n",
       "       [ 0,  4,  0,  0,  1,  0,  4,  1,  7,  0,  0,  1,  4,  5, 90,  2,\n",
       "         0,  0,  8,  0],\n",
       "       [ 3,  4,  0,  0,  1,  2,  1,  0,  3,  0,  0,  0,  1,  3,  1, 92,\n",
       "         1,  3,  2,  5],\n",
       "       [ 0,  0,  0,  0,  1,  0,  2,  3,  6,  2,  0,  0,  2,  0,  1,  0,\n",
       "        94,  0, 10,  0],\n",
       "       [ 1,  0,  0,  0,  2,  0,  5,  1,  3,  2,  0,  1,  1,  2,  2,  0,\n",
       "         1, 73,  5,  3],\n",
       "       [ 4,  0,  0,  0,  1,  0,  1,  2,  2,  4,  2,  0,  0,  6,  3,  2,\n",
       "         9,  4, 64,  3],\n",
       "       [11,  0,  0,  0,  2,  0,  1,  0,  5,  3,  1,  0,  0,  4,  3,  6,\n",
       "         6,  3,  1, 29]])"
      ]
     },
     "execution_count": 36,
     "metadata": {},
     "output_type": "execute_result"
    }
   ],
   "source": [
    "cm"
   ]
  },
  {
   "cell_type": "code",
   "execution_count": 45,
   "id": "06e6baee-9884-4080-89bc-107206228eeb",
   "metadata": {},
   "outputs": [
    {
     "name": "stdout",
     "output_type": "stream",
     "text": [
      "['data' 'for' 'great' 'in' 'is' 'learning' 'love' 'machine' 'of'\n",
      " 'programming' 'python' 'science' 'subset']\n"
     ]
    },
    {
     "data": {
      "text/plain": [
       "array([[0, 0, 0, 1, 0, 0, 1, 0, 0, 1, 1, 0, 0],\n",
       "       [1, 1, 1, 0, 1, 0, 0, 0, 0, 0, 1, 1, 0],\n",
       "       [1, 0, 0, 0, 1, 1, 0, 1, 1, 0, 0, 1, 1]])"
      ]
     },
     "execution_count": 45,
     "metadata": {},
     "output_type": "execute_result"
    }
   ],
   "source": [
    "from sklearn.feature_extraction.text import CountVectorizer\n",
    "docs = [\n",
    "    \"I love programming in Python.\",\n",
    "    \"Python is great for data science.\",\n",
    "    \"Machine learning is a subset of data science.\"\n",
    "]\n",
    "vectorizer = CountVectorizer()\n",
    "X = vectorizer.fit_transform(docs)\n",
    "print(vectorizer.get_feature_names_out())\n",
    "X.toarray()"
   ]
  },
  {
   "cell_type": "code",
   "execution_count": 53,
   "id": "59b79223-5b84-44b1-a1c3-c1c9661e1532",
   "metadata": {},
   "outputs": [
    {
     "data": {
      "text/plain": [
       "['alt.atheism',\n",
       " 'comp.graphics',\n",
       " 'comp.os.ms-windows.misc',\n",
       " 'comp.sys.ibm.pc.hardware',\n",
       " 'comp.sys.mac.hardware',\n",
       " 'comp.windows.x',\n",
       " 'misc.forsale',\n",
       " 'rec.autos',\n",
       " 'rec.motorcycles',\n",
       " 'rec.sport.baseball',\n",
       " 'rec.sport.hockey',\n",
       " 'sci.crypt',\n",
       " 'sci.electronics',\n",
       " 'sci.med',\n",
       " 'sci.space',\n",
       " 'soc.religion.christian',\n",
       " 'talk.politics.guns',\n",
       " 'talk.politics.mideast',\n",
       " 'talk.politics.misc',\n",
       " 'talk.religion.misc']"
      ]
     },
     "execution_count": 53,
     "metadata": {},
     "output_type": "execute_result"
    }
   ],
   "source": [
    "test = fetch_20newsgroups(subset='test')\n",
    "test.target_names"
   ]
  },
  {
   "cell_type": "code",
   "execution_count": null,
   "id": "314175cd-f87c-4675-a4ee-f45a26cf496d",
   "metadata": {},
   "outputs": [],
   "source": []
  }
 ],
 "metadata": {
  "kernelspec": {
   "display_name": "Python 3 (ipykernel)",
   "language": "python",
   "name": "python3"
  },
  "language_info": {
   "codemirror_mode": {
    "name": "ipython",
    "version": 3
   },
   "file_extension": ".py",
   "mimetype": "text/x-python",
   "name": "python",
   "nbconvert_exporter": "python",
   "pygments_lexer": "ipython3",
   "version": "3.11.7"
  }
 },
 "nbformat": 4,
 "nbformat_minor": 5
}
