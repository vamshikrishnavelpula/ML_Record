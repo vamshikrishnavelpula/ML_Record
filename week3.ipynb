{
 "cells": [
  {
   "cell_type": "code",
   "execution_count": 26,
   "id": "c3dbcc00-decc-4f2e-9025-cfcc618cd530",
   "metadata": {},
   "outputs": [],
   "source": [
    "import pandas as pd\n",
    "import numpy as np\n",
    "import matplotlib.pyplot as plt\n",
    "from sklearn.model_selection import train_test_split\n",
    "from sklearn.linear_model import LinearRegression\n",
    "from sklearn.metrics import mean_squared_error, r2_score"
   ]
  },
  {
   "cell_type": "code",
   "execution_count": 27,
   "id": "2347c8b8-2c54-4dea-9132-8b308af7f5f9",
   "metadata": {},
   "outputs": [],
   "source": [
    "df=pd.read_csv(\"tvmarketing.csv\")"
   ]
  },
  {
   "cell_type": "markdown",
   "id": "8e1b110d-f2af-404b-bc0e-b207a05c2c59",
   "metadata": {},
   "source": [
    "### 1. Import dataset and display first 5 rows"
   ]
  },
  {
   "cell_type": "code",
   "execution_count": 28,
   "id": "7e4e5818-c3bf-40d3-94cf-081d6244adae",
   "metadata": {},
   "outputs": [
    {
     "data": {
      "text/html": [
       "<div>\n",
       "<style scoped>\n",
       "    .dataframe tbody tr th:only-of-type {\n",
       "        vertical-align: middle;\n",
       "    }\n",
       "\n",
       "    .dataframe tbody tr th {\n",
       "        vertical-align: top;\n",
       "    }\n",
       "\n",
       "    .dataframe thead th {\n",
       "        text-align: right;\n",
       "    }\n",
       "</style>\n",
       "<table border=\"1\" class=\"dataframe\">\n",
       "  <thead>\n",
       "    <tr style=\"text-align: right;\">\n",
       "      <th></th>\n",
       "      <th>TV</th>\n",
       "      <th>Sales</th>\n",
       "    </tr>\n",
       "  </thead>\n",
       "  <tbody>\n",
       "    <tr>\n",
       "      <th>0</th>\n",
       "      <td>230.1</td>\n",
       "      <td>22.1</td>\n",
       "    </tr>\n",
       "    <tr>\n",
       "      <th>1</th>\n",
       "      <td>44.5</td>\n",
       "      <td>10.4</td>\n",
       "    </tr>\n",
       "    <tr>\n",
       "      <th>2</th>\n",
       "      <td>17.2</td>\n",
       "      <td>9.3</td>\n",
       "    </tr>\n",
       "    <tr>\n",
       "      <th>3</th>\n",
       "      <td>151.5</td>\n",
       "      <td>18.5</td>\n",
       "    </tr>\n",
       "    <tr>\n",
       "      <th>4</th>\n",
       "      <td>180.8</td>\n",
       "      <td>12.9</td>\n",
       "    </tr>\n",
       "  </tbody>\n",
       "</table>\n",
       "</div>"
      ],
      "text/plain": [
       "      TV  Sales\n",
       "0  230.1   22.1\n",
       "1   44.5   10.4\n",
       "2   17.2    9.3\n",
       "3  151.5   18.5\n",
       "4  180.8   12.9"
      ]
     },
     "execution_count": 28,
     "metadata": {},
     "output_type": "execute_result"
    }
   ],
   "source": [
    "df.head()"
   ]
  },
  {
   "cell_type": "markdown",
   "id": "95d1e07f-fb53-4069-9578-e3bc8c3cbf8a",
   "metadata": {},
   "source": [
    "### 2. Check column data types"
   ]
  },
  {
   "cell_type": "code",
   "execution_count": 29,
   "id": "9137e70e-b463-49a6-b9fa-ac9a1d4df0e3",
   "metadata": {},
   "outputs": [
    {
     "data": {
      "text/plain": [
       "TV       float64\n",
       "Sales    float64\n",
       "dtype: object"
      ]
     },
     "execution_count": 29,
     "metadata": {},
     "output_type": "execute_result"
    }
   ],
   "source": [
    "df.dtypes"
   ]
  },
  {
   "cell_type": "markdown",
   "id": "ed09736d-0754-4690-8248-306d86bc0317",
   "metadata": {},
   "source": [
    "### 3. Check the shape of the Data Frame (rows, columns)"
   ]
  },
  {
   "cell_type": "code",
   "execution_count": 30,
   "id": "7cd4d696-14cb-405b-87d0-18416e307e47",
   "metadata": {},
   "outputs": [
    {
     "data": {
      "text/plain": [
       "(200, 2)"
      ]
     },
     "execution_count": 30,
     "metadata": {},
     "output_type": "execute_result"
    }
   ],
   "source": [
    "df.shape"
   ]
  },
  {
   "cell_type": "markdown",
   "id": "91d8f2d9-9c1f-4c0e-bd44-702ebd31abfb",
   "metadata": {},
   "source": [
    "### 4. Look at summary statistics"
   ]
  },
  {
   "cell_type": "code",
   "execution_count": 31,
   "id": "d677b0ec-6215-4e14-a7e4-06271d1c5d78",
   "metadata": {},
   "outputs": [
    {
     "data": {
      "text/html": [
       "<div>\n",
       "<style scoped>\n",
       "    .dataframe tbody tr th:only-of-type {\n",
       "        vertical-align: middle;\n",
       "    }\n",
       "\n",
       "    .dataframe tbody tr th {\n",
       "        vertical-align: top;\n",
       "    }\n",
       "\n",
       "    .dataframe thead th {\n",
       "        text-align: right;\n",
       "    }\n",
       "</style>\n",
       "<table border=\"1\" class=\"dataframe\">\n",
       "  <thead>\n",
       "    <tr style=\"text-align: right;\">\n",
       "      <th></th>\n",
       "      <th>TV</th>\n",
       "      <th>Sales</th>\n",
       "    </tr>\n",
       "  </thead>\n",
       "  <tbody>\n",
       "    <tr>\n",
       "      <th>count</th>\n",
       "      <td>200.000000</td>\n",
       "      <td>200.000000</td>\n",
       "    </tr>\n",
       "    <tr>\n",
       "      <th>mean</th>\n",
       "      <td>147.042500</td>\n",
       "      <td>14.022500</td>\n",
       "    </tr>\n",
       "    <tr>\n",
       "      <th>std</th>\n",
       "      <td>85.854236</td>\n",
       "      <td>5.217457</td>\n",
       "    </tr>\n",
       "    <tr>\n",
       "      <th>min</th>\n",
       "      <td>0.700000</td>\n",
       "      <td>1.600000</td>\n",
       "    </tr>\n",
       "    <tr>\n",
       "      <th>25%</th>\n",
       "      <td>74.375000</td>\n",
       "      <td>10.375000</td>\n",
       "    </tr>\n",
       "    <tr>\n",
       "      <th>50%</th>\n",
       "      <td>149.750000</td>\n",
       "      <td>12.900000</td>\n",
       "    </tr>\n",
       "    <tr>\n",
       "      <th>75%</th>\n",
       "      <td>218.825000</td>\n",
       "      <td>17.400000</td>\n",
       "    </tr>\n",
       "    <tr>\n",
       "      <th>max</th>\n",
       "      <td>296.400000</td>\n",
       "      <td>27.000000</td>\n",
       "    </tr>\n",
       "  </tbody>\n",
       "</table>\n",
       "</div>"
      ],
      "text/plain": [
       "               TV       Sales\n",
       "count  200.000000  200.000000\n",
       "mean   147.042500   14.022500\n",
       "std     85.854236    5.217457\n",
       "min      0.700000    1.600000\n",
       "25%     74.375000   10.375000\n",
       "50%    149.750000   12.900000\n",
       "75%    218.825000   17.400000\n",
       "max    296.400000   27.000000"
      ]
     },
     "execution_count": 31,
     "metadata": {},
     "output_type": "execute_result"
    }
   ],
   "source": [
    "df.describe()"
   ]
  },
  {
   "cell_type": "markdown",
   "id": "b6416aa5-8a24-4b09-a287-f5a0ea689e21",
   "metadata": {},
   "source": [
    "### 5. Visualize the relationship between the features and the dependent variable using scatterplots"
   ]
  },
  {
   "cell_type": "code",
   "execution_count": 32,
   "id": "aa63f1ed-c87b-480c-abc2-f67974ce46d5",
   "metadata": {},
   "outputs": [
    {
     "data": {
      "image/png": "[encoded data removed]",
      "text/plain": [
       "<Figure size 800x600 with 1 Axes>"
      ]
     },
     "metadata": {},
     "output_type": "display_data"
    }
   ],
   "source": [
    "plt.figure(figsize=(8,6))\n",
    "plt.scatter(df['TV'],df['Sales'],color='green')\n",
    "plt.grid(True)\n",
    "plt.show()"
   ]
  },
  {
   "cell_type": "markdown",
   "id": "d90a62cc-cbb4-487f-a2b7-a9ac2e793261",
   "metadata": {},
   "source": [
    "### 6. Prepare X (feature variables) and y (response variable)"
   ]
  },
  {
   "cell_type": "code",
   "execution_count": 33,
   "id": "d878b122-5315-4dac-b556-21e1dc11c6e5",
   "metadata": {},
   "outputs": [],
   "source": [
    "X=df[['TV']]\n",
    "y=df[['Sales']]"
   ]
  },
  {
   "cell_type": "markdown",
   "id": "0a1fcc0b-0ceb-44bc-b442-6a4c57d21e81",
   "metadata": {},
   "source": [
    "### 7. Split Data into Training and Testing Sets (70%-Train 30%-Test) - X_train, y_train, X_test, y_test"
   ]
  },
  {
   "cell_type": "code",
   "execution_count": 34,
   "id": "b68d6c3f-5492-497f-8653-cea67b61063d",
   "metadata": {},
   "outputs": [],
   "source": [
    "X_train, X_test, y_train, y_test = train_test_split(X, y, test_size=0.3, random_state=42)"
   ]
  },
  {
   "cell_type": "markdown",
   "id": "85945e2b-97a0-4a39-b308-cb3d0dcca52f",
   "metadata": {},
   "source": [
    "### 8. Print the shape of train data and test data"
   ]
  },
  {
   "cell_type": "code",
   "execution_count": 35,
   "id": "85f14074-7857-4f80-95c7-b040caebb9c4",
   "metadata": {},
   "outputs": [
    {
     "name": "stdout",
     "output_type": "stream",
     "text": [
      "Training data shape: (140, 1) (140, 1)\n",
      "Test data shape: (60, 1) (60, 1)\n"
     ]
    }
   ],
   "source": [
    "print(\"Training data shape:\", X_train.shape, y_train.shape)\n",
    "print(\"Test data shape:\", X_test.shape, y_test.shape)"
   ]
  },
  {
   "cell_type": "markdown",
   "id": "019e9f59-e003-4a52-9e87-88829bdfba14",
   "metadata": {},
   "source": [
    "### 9. Perform Linear Regression (on train data) without using any library and print the coefficients values"
   ]
  },
  {
   "cell_type": "code",
   "execution_count": 18,
   "id": "2bc11de7-3168-454b-bd11-742bde403f20",
   "metadata": {},
   "outputs": [
    {
     "name": "stdout",
     "output_type": "stream",
     "text": [
      "\n",
      "Manually Computed Coefficients:\n",
      "Intercept (β₀): 14.49714285714286\n",
      "Slope (β₁): -1.0108632568250123e-17\n"
     ]
    }
   ],
   "source": [
    "X_train_np=X_train.to_numpy().flatten()\n",
    "y_train_np=y_train.to_numpy()\n",
    "\n",
    "X_mean = np.mean(X_train_np)\n",
    "y_mean = np.mean(y_train_np)\n",
    "\n",
    "numerator = np.sum( (X_train_np - X_mean) * (y_train_np - y_mean) )\n",
    "denominator = np.sum( (X_train_np - X_mean) ** 2)\n",
    "\n",
    "beta1 = numerator / denominator\n",
    "beta0 = y_mean - (beta1 * X_mean)\n",
    "\n",
    "print(\"\\nManually Computed Coefficients:\")\n",
    "print(f\"Intercept (β₀): {beta0}\")\n",
    "print(f\"Slope (β₁): {beta1}\")"
   ]
  },
  {
   "cell_type": "markdown",
   "id": "53943767-9fe6-4673-ab88-c0bec194d7a7",
   "metadata": {},
   "source": [
    "### 10.Create the model using the calculated coefficients and make predictions on the testing set"
   ]
  },
  {
   "cell_type": "code",
   "execution_count": 20,
   "id": "ee2149c9-16dc-4f49-86ed-6a757407f268",
   "metadata": {},
   "outputs": [],
   "source": [
    "y_pred_manual = beta0 + beta1 * X_test.to_numpy().flatten()"
   ]
  },
  {
   "cell_type": "markdown",
   "id": "88e920bb-b74c-403c-a817-bb4f56433936",
   "metadata": {},
   "source": [
    "### 11.Perform Linear Regression using library(sklearn)"
   ]
  },
  {
   "cell_type": "code",
   "execution_count": 22,
   "id": "97b45cb2-879c-4860-baa8-4e526709e4cd",
   "metadata": {},
   "outputs": [],
   "source": [
    "model = LinearRegression()\n",
    "model.fit(X_train, y_train)\n",
    "\n",
    "intercept_sklearn = model.intercept_\n",
    "coefficient_sklearn = model.coef_[0]"
   ]
  },
  {
   "cell_type": "markdown",
   "id": "4610cdb3-7ddb-4f1f-b085-c354b572efc2",
   "metadata": {},
   "source": [
    "### 12.Print the intercept and coefficients"
   ]
  },
  {
   "cell_type": "code",
   "execution_count": 23,
   "id": "65b15061-de5a-4a91-9edc-a89e0f105de1",
   "metadata": {},
   "outputs": [
    {
     "name": "stdout",
     "output_type": "stream",
     "text": [
      "\n",
      "Sklearn Computed Coefficients:\n",
      "Intercept (β₀): [7.23945983]\n",
      "Slope (β₁): [0.0464078]\n"
     ]
    }
   ],
   "source": [
    "print(\"\\nSklearn Computed Coefficients:\")\n",
    "print(f\"Intercept (β₀): {intercept_sklearn}\")\n",
    "print(f\"Slope (β₁): {coefficient_sklearn}\")"
   ]
  },
  {
   "cell_type": "markdown",
   "id": "3d8562a0-6d0e-4a7a-87cb-c6e2847c7723",
   "metadata": {},
   "source": [
    "### 13.Make predictions on the testing set - y_pred"
   ]
  },
  {
   "cell_type": "code",
   "execution_count": 24,
   "id": "1fc7f1e4-c50b-4774-b56c-3cae753231f1",
   "metadata": {},
   "outputs": [],
   "source": [
    "y_pred_sklearn = model.predict(X_test)"
   ]
  },
  {
   "cell_type": "markdown",
   "id": "2dd2ef2c-ef17-4dea-bfe0-97f24e7ffce5",
   "metadata": {},
   "source": [
    "### 14.Plot train data and the model"
   ]
  },
  {
   "cell_type": "code",
   "execution_count": 21,
   "id": "8234cb6e-7119-419e-8895-87c525fb0056",
   "metadata": {},
   "outputs": [
    {
     "data": {
      "image/png": "[encoded data removed]",
      "text/plain": [
       "<Figure size 800x500 with 1 Axes>"
      ]
     },
     "metadata": {},
     "output_type": "display_data"
    }
   ],
   "source": [
    "plt.figure(figsize=(8, 5))\n",
    "plt.scatter(X_train, y_train, color='blue')\n",
    "plt.plot(X_train, beta0 + beta1 * X_train, color='red')\n",
    "plt.show()"
   ]
  },
  {
   "cell_type": "markdown",
   "id": "24738761-a6a2-4d77-a9e1-3eb7fe0e24ce",
   "metadata": {},
   "source": [
    "### 15.Plot test data and the model"
   ]
  },
  {
   "cell_type": "code",
   "execution_count": 22,
   "id": "664c7367-0092-4f52-b63c-938ad687ab58",
   "metadata": {},
   "outputs": [
    {
     "data": {
      "image/png": "[encoded data removed]",
      "text/plain": [
       "<Figure size 800x500 with 1 Axes>"
      ]
     },
     "metadata": {},
     "output_type": "display_data"
    }
   ],
   "source": [
    "plt.figure(figsize=(8, 5))\n",
    "plt.scatter(X_test, y_test, color='green')\n",
    "plt.plot(X_test, beta0 + beta1 * X_test, color='red')\n",
    "plt.show()"
   ]
  },
  {
   "cell_type": "markdown",
   "id": "94f91d50-9ded-4c51-bbbf-08c356c2d884",
   "metadata": {},
   "source": [
    "### 16.Print Mean Squared Error and R Squared Value"
   ]
  },
  {
   "cell_type": "code",
   "execution_count": 25,
   "id": "9d176c2d-904a-4d8f-8bbc-bbc8706c9b3e",
   "metadata": {},
   "outputs": [
    {
     "name": "stdout",
     "output_type": "stream",
     "text": [
      "Mean Squared Error: 8.970991242413616\n",
      "R Squared Value: 0.6714477229302764\n"
     ]
    }
   ],
   "source": [
    "mse = mean_squared_error(y_test, y_pred_sklearn)\n",
    "r2 = r2_score(y_test, y_pred_sklearn)\n",
    "print(f\"Mean Squared Error: {mse}\")\n",
    "print(f\"R Squared Value: {r2}\")"
   ]
  },
  {
   "cell_type": "markdown",
   "id": "e7d18291-27aa-4777-a0f4-092a8fdafa30",
   "metadata": {},
   "source": [
    "### 17.Calculate and print R Squared and Adjusted R Squared values without any library"
   ]
  },
  {
   "cell_type": "code",
   "execution_count": 18,
   "id": "cdfa07b6-b18e-43b4-814c-0de64356c41c",
   "metadata": {},
   "outputs": [
    {
     "name": "stdout",
     "output_type": "stream",
     "text": [
      "R-Squared: 0.6119\n",
      "Adjusted R-Squared: 0.6099\n"
     ]
    }
   ],
   "source": [
    "df.columns = df.columns.str.strip()\n",
    "\n",
    "# Define X (independent variables) and y (dependent variable)\n",
    "X = df.drop(columns=[\"Sales\"])  # Assuming 'Sales' is the target variable\n",
    "y = df[\"Sales\"]\n",
    "\n",
    "# Add intercept (column of ones) for manual calculations\n",
    "X = np.c_[np.ones(X.shape[0]), X]  # Add intercept term (bias)\n",
    "\n",
    "# Calculate coefficients using Normal Equation: β = (X'X)^(-1) X'Y\n",
    "beta = np.linalg.inv(X.T @ X) @ X.T @ y\n",
    "\n",
    "# Predict y using computed coefficients\n",
    "y_pred = X @ beta\n",
    "\n",
    "# Compute R-Squared\n",
    "SSR = np.sum((y - y_pred) ** 2)  # Sum of squared residuals\n",
    "SST = np.sum((y - np.mean(y)) ** 2)  # Total sum of squares\n",
    "R_squared = 1 - (SSR / SST)\n",
    "\n",
    "# Compute Adjusted R-Squared\n",
    "n = X.shape[0]  # Number of observations\n",
    "p = X.shape[1] - 1  # Number of independent variables\n",
    "Adjusted_R_squared = 1 - ( (1 - R_squared) * (n - 1) / (n - p - 1) )\n",
    "\n",
    "# Print results\n",
    "print(f\"R-Squared: {R_squared:.4f}\")\n",
    "print(f\"Adjusted R-Squared: {Adjusted_R_squared:.4f}\")"
   ]
  },
  {
   "cell_type": "code",
   "execution_count": null,
   "id": "f1f7197f-31e4-4f99-a143-bc5e1b3725c8",
   "metadata": {},
   "outputs": [],
   "source": []
  }
 ],
 "metadata": {
  "kernelspec": {
   "display_name": "Python 3 (ipykernel)",
   "language": "python",
   "name": "python3"
  },
  "language_info": {
   "codemirror_mode": {
    "name": "ipython",
    "version": 3
   },
   "file_extension": ".py",
   "mimetype": "text/x-python",
   "name": "python",
   "nbconvert_exporter": "python",
   "pygments_lexer": "ipython3",
   "version": "3.11.7"
  }
 },
 "nbformat": 4,
 "nbformat_minor": 5
}
